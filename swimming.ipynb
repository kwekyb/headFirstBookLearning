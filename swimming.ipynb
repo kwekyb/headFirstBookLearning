{
 "cells": [
  {
   "cell_type": "code",
   "execution_count": null,
   "metadata": {},
   "outputs": [],
   "source": [
    "import swimclub"
   ]
  },
  {
   "cell_type": "code",
   "execution_count": null,
   "metadata": {},
   "outputs": [
    {
     "data": {
      "text/plain": [
       "('Bruce',\n",
       " '12',\n",
       " '100m',\n",
       " 'Free',\n",
       " ['1:26.56', '1:27.11', '1:33.35', '1:29.44', '1:28.32'],\n",
       " '1:28.96')"
      ]
     },
     "execution_count": 39,
     "metadata": {},
     "output_type": "execute_result"
    }
   ],
   "source": [
    "\n",
    "swimclub.read_swim_data(\"Bruce-12-100m-Free.txt\")"
   ]
  },
  {
   "cell_type": "code",
   "execution_count": null,
   "metadata": {},
   "outputs": [],
   "source": [
    "data = swimclub.read_swim_data(\"Marius-13-100m-Fly.txt\")\n",
    "swimmer, age, distance, stroke, times2, average = data\n",
    "print(times2)\n",
    "type(times2)"
   ]
  },
  {
   "cell_type": "code",
   "execution_count": null,
   "metadata": {},
   "outputs": [],
   "source": [
    "data = swimclub.read_swim_data(\"Marius-13-100m-Fly.txt\")\n",
    "print(type(data))"
   ]
  },
  {
   "cell_type": "code",
   "execution_count": null,
   "metadata": {},
   "outputs": [],
   "source": [
    "import os\n",
    "swim_files = os.listdir(swimclub.FOLDER)\n",
    "swim_files"
   ]
  },
  {
   "cell_type": "code",
   "execution_count": null,
   "metadata": {},
   "outputs": [],
   "source": [
    "help(swim_files.reverse)"
   ]
  },
  {
   "cell_type": "code",
   "execution_count": null,
   "metadata": {},
   "outputs": [],
   "source": [
    "len(swim_files)"
   ]
  },
  {
   "cell_type": "code",
   "execution_count": 41,
   "metadata": {},
   "outputs": [
    {
     "name": "stdout",
     "output_type": "stream",
     "text": [
      "('Bruce', '12', '100m', 'Free', ['1:26.56', '1:27.11', '1:33.35', '1:29.44', '1:28.32'], '1:28.96')\n",
      "('Marius', '13', '100m', 'Fly', ['1:24.56', '1:25.11', '1:30.35', '1:31.44', '1:31.32'], '1:28.56')\n"
     ]
    }
   ],
   "source": [
    "for each in swim_files:\n",
    "    print(swimclub.read_swim_data(each))\n"
   ]
  },
  {
   "cell_type": "code",
   "execution_count": null,
   "metadata": {},
   "outputs": [],
   "source": []
  }
 ],
 "metadata": {
  "kernelspec": {
   "display_name": "Python 3",
   "language": "python",
   "name": "python3"
  },
  "language_info": {
   "codemirror_mode": {
    "name": "ipython",
    "version": 3
   },
   "file_extension": ".py",
   "mimetype": "text/x-python",
   "name": "python",
   "nbconvert_exporter": "python",
   "pygments_lexer": "ipython3",
   "version": "3.13.2"
  }
 },
 "nbformat": 4,
 "nbformat_minor": 2
}
